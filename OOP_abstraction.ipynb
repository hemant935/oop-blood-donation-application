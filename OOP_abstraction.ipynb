{
  "nbformat": 4,
  "nbformat_minor": 0,
  "metadata": {
    "colab": {
      "name": "OOP-abstraction.ipynb",
      "provenance": [],
      "collapsed_sections": [],
      "include_colab_link": true
    },
    "kernelspec": {
      "name": "python3",
      "display_name": "Python 3"
    },
    "language_info": {
      "name": "python"
    }
  },
  "cells": [
    {
      "cell_type": "markdown",
      "metadata": {
        "id": "view-in-github",
        "colab_type": "text"
      },
      "source": [
        "<a href=\"https://colab.research.google.com/github/hemant935/oop-practice/blob/main/OOP_abstraction.ipynb\" target=\"_parent\"><img src=\"https://colab.research.google.com/assets/colab-badge.svg\" alt=\"Open In Colab\"/></a>"
      ]
    },
    {
      "cell_type": "code",
      "metadata": {
        "id": "qAUFunbDjKfC"
      },
      "source": [
        "Example 1:"
      ],
      "execution_count": null,
      "outputs": []
    },
    {
      "cell_type": "code",
      "metadata": {
        "id": "ekerluYed6ov",
        "outputId": "27edd9c4-10d1-488a-aa5a-d12af4d5da2e",
        "colab": {
          "base_uri": "https://localhost:8080/"
        }
      },
      "source": [
        "from abc import ABC, abstractmethod \n",
        "class Parent(ABC):            #common functionality \n",
        "       def common(self): \n",
        "          print('method called from Parent') \n",
        "       @abstractmethod \n",
        "       def responsibility(self): \n",
        "          pass \n",
        "class  Child1(Parent): \n",
        "       def responsibility (self): \n",
        "          print( 'Method called from Child 1 responsibility')\n",
        "class Child2(Parent): \n",
        "       def responsibility (self): \n",
        "          print( 'Method called from Child 2 responsibility')\n",
        "# object of Child1 class \n",
        "obj = Child1() \n",
        "obj.common() \n",
        "obj.responsibility()       \n",
        "\n",
        "# object of Child2 class \n",
        "obj = Child2() \n",
        "obj.common() \n",
        "obj.responsibility()\n"
      ],
      "execution_count": 1,
      "outputs": [
        {
          "output_type": "stream",
          "name": "stdout",
          "text": [
            "method called from Parent\n",
            "Method called from Child 1 responsibility\n",
            "method called from Parent\n",
            "Method called from Child 2 responsibility\n"
          ]
        }
      ]
    },
    {
      "cell_type": "markdown",
      "metadata": {
        "id": "YAqt1NhExwUY"
      },
      "source": [
        ""
      ]
    },
    {
      "cell_type": "markdown",
      "metadata": {
        "id": "r1vNHw8QjVDt"
      },
      "source": [
        "Example 2: What is Wrong?"
      ]
    },
    {
      "cell_type": "code",
      "metadata": {
        "id": "Bbj3kUKIjYIN",
        "outputId": "2691eb23-11f0-4860-ab10-8c23276aaabe",
        "colab": {
          "base_uri": "https://localhost:8080/",
          "height": 234
        }
      },
      "source": [
        "from abc import ABC, abstractmethod \n",
        "class Parent(ABC):            #common functionality \n",
        "       def common(self): \n",
        "          print('method called from  Parent') \n",
        "\n",
        "       @abstractmethod \n",
        "       def responsibility(self): \n",
        "          pass \n",
        "class  Child(Parent): \n",
        "          pass        # object of Child class \n",
        "\n",
        "obj = Child()\n",
        "obj.common() \n",
        "obj.vary()\n"
      ],
      "execution_count": 2,
      "outputs": [
        {
          "output_type": "error",
          "ename": "TypeError",
          "evalue": "ignored",
          "traceback": [
            "\u001b[0;31m---------------------------------------------------------------------------\u001b[0m",
            "\u001b[0;31mTypeError\u001b[0m                                 Traceback (most recent call last)",
            "\u001b[0;32m<ipython-input-2-599505444ebb>\u001b[0m in \u001b[0;36m<module>\u001b[0;34m()\u001b[0m\n\u001b[1;32m     10\u001b[0m           \u001b[0;32mpass\u001b[0m        \u001b[0;31m# object of Child class\u001b[0m\u001b[0;34m\u001b[0m\u001b[0;34m\u001b[0m\u001b[0m\n\u001b[1;32m     11\u001b[0m \u001b[0;34m\u001b[0m\u001b[0m\n\u001b[0;32m---> 12\u001b[0;31m \u001b[0mobj\u001b[0m \u001b[0;34m=\u001b[0m \u001b[0mChild\u001b[0m\u001b[0;34m(\u001b[0m\u001b[0;34m)\u001b[0m\u001b[0;34m\u001b[0m\u001b[0;34m\u001b[0m\u001b[0m\n\u001b[0m\u001b[1;32m     13\u001b[0m \u001b[0mobj\u001b[0m\u001b[0;34m.\u001b[0m\u001b[0mcommon\u001b[0m\u001b[0;34m(\u001b[0m\u001b[0;34m)\u001b[0m\u001b[0;34m\u001b[0m\u001b[0;34m\u001b[0m\u001b[0m\n\u001b[1;32m     14\u001b[0m \u001b[0mobj\u001b[0m\u001b[0;34m.\u001b[0m\u001b[0mvary\u001b[0m\u001b[0;34m(\u001b[0m\u001b[0;34m)\u001b[0m\u001b[0;34m\u001b[0m\u001b[0;34m\u001b[0m\u001b[0m\n",
            "\u001b[0;31mTypeError\u001b[0m: Can't instantiate abstract class Child with abstract methods responsibility"
          ]
        }
      ]
    },
    {
      "cell_type": "markdown",
      "metadata": {
        "id": "RjquKbJ0jxit"
      },
      "source": [
        "Example 3:"
      ]
    },
    {
      "cell_type": "code",
      "metadata": {
        "id": "lHcXPzF_jzRT",
        "outputId": "a57afb28-fc9d-422d-eff3-7a3c515796b1",
        "colab": {
          "base_uri": "https://localhost:8080/",
          "height": 234
        }
      },
      "source": [
        "from abc import ABC, abstractmethod \n",
        "class Parent(ABC):            #common functionality \n",
        "       def common(self): \n",
        "            print('common method of Parent') \n",
        "       @abstractmethod \n",
        "       def responsibility(self): \n",
        "            pass \n",
        "       @abstractmethod \n",
        "       def test(self): \n",
        "            pass \n",
        "class  Child(Parent): \n",
        "       def  responsibility(self): \n",
        "            print('method of Child') # object of Child class \n",
        "obj = Child()\n",
        "obj.common() \n",
        "obj.vary()"
      ],
      "execution_count": 3,
      "outputs": [
        {
          "output_type": "error",
          "ename": "TypeError",
          "evalue": "ignored",
          "traceback": [
            "\u001b[0;31m---------------------------------------------------------------------------\u001b[0m",
            "\u001b[0;31mTypeError\u001b[0m                                 Traceback (most recent call last)",
            "\u001b[0;32m<ipython-input-3-b7430400883a>\u001b[0m in \u001b[0;36m<module>\u001b[0;34m()\u001b[0m\n\u001b[1;32m     12\u001b[0m        \u001b[0;32mdef\u001b[0m  \u001b[0mresponsibility\u001b[0m\u001b[0;34m(\u001b[0m\u001b[0mself\u001b[0m\u001b[0;34m)\u001b[0m\u001b[0;34m:\u001b[0m\u001b[0;34m\u001b[0m\u001b[0;34m\u001b[0m\u001b[0m\n\u001b[1;32m     13\u001b[0m             \u001b[0mprint\u001b[0m\u001b[0;34m(\u001b[0m\u001b[0;34m'method of Child'\u001b[0m\u001b[0;34m)\u001b[0m \u001b[0;31m# object of Child class\u001b[0m\u001b[0;34m\u001b[0m\u001b[0;34m\u001b[0m\u001b[0m\n\u001b[0;32m---> 14\u001b[0;31m \u001b[0mobj\u001b[0m \u001b[0;34m=\u001b[0m \u001b[0mChild\u001b[0m\u001b[0;34m(\u001b[0m\u001b[0;34m)\u001b[0m\u001b[0;34m\u001b[0m\u001b[0;34m\u001b[0m\u001b[0m\n\u001b[0m\u001b[1;32m     15\u001b[0m \u001b[0mobj\u001b[0m\u001b[0;34m.\u001b[0m\u001b[0mcommon\u001b[0m\u001b[0;34m(\u001b[0m\u001b[0;34m)\u001b[0m\u001b[0;34m\u001b[0m\u001b[0;34m\u001b[0m\u001b[0m\n\u001b[1;32m     16\u001b[0m \u001b[0mobj\u001b[0m\u001b[0;34m.\u001b[0m\u001b[0mvary\u001b[0m\u001b[0;34m(\u001b[0m\u001b[0;34m)\u001b[0m\u001b[0;34m\u001b[0m\u001b[0;34m\u001b[0m\u001b[0m\n",
            "\u001b[0;31mTypeError\u001b[0m: Can't instantiate abstract class Child with abstract methods test"
          ]
        }
      ]
    },
    {
      "cell_type": "markdown",
      "metadata": {
        "id": "1sdGYuSWkq9w"
      },
      "source": [
        "Example 4: "
      ]
    },
    {
      "cell_type": "code",
      "metadata": {
        "id": "cAAzJx9MkxjC",
        "outputId": "3c7ffebc-74c5-4030-e853-add06298b4b3",
        "colab": {
          "base_uri": "https://localhost:8080/"
        }
      },
      "source": [
        "from abc import ABC, abstractmethod\n",
        "class Parent(ABC):  \n",
        "     def __init__(self, name):    \n",
        "          self.name = name;    \n",
        "          super().__init__() \n",
        "     def common(self):         #common functionality  \n",
        "          print('method called from Parent', self.name)  \n",
        "     @abstractmethod  \n",
        "     def vary(self):    \n",
        "          pass\n",
        "class Child(Parent):  \n",
        "     def vary(self):    \n",
        "          self.name = 'ABC' \n",
        "          print('uncle name is ', self.name)           # trying to instantiate abstract class\n",
        "obj = Child('Uncle')\n",
        "obj.common()\n",
        "obj.vary()\n"
      ],
      "execution_count": 6,
      "outputs": [
        {
          "output_type": "stream",
          "name": "stdout",
          "text": [
            "method called from Parent Uncle\n",
            "uncle name is  ABC\n"
          ]
        }
      ]
    },
    {
      "cell_type": "code",
      "metadata": {
        "id": "BO9fCncid8kR"
      },
      "source": [
        ""
      ],
      "execution_count": null,
      "outputs": []
    },
    {
      "cell_type": "markdown",
      "metadata": {
        "id": "hYi4bUC4lI1q"
      },
      "source": [
        "Example 6:"
      ]
    },
    {
      "cell_type": "code",
      "metadata": {
        "id": "82pd7I43lMFw"
      },
      "source": [
        "from abc import ABC, abstractmethod\n",
        "class User(ABC):\n",
        "    def __init__(self, name, num_of_months):\n",
        "        self.name = name\n",
        "        self.num_of_months = num_of_months\n",
        "\n",
        "    def display_user(self):\n",
        "        print('User %s subscribed for %d months' % (self.name, self.num_of_months))\n",
        "    @abstractmethod\n",
        "    def process_fee(self):\n",
        "        pass\n",
        "class PlatinumUser(User):\n",
        "    PLATINUM_PACKAGE = 2200   \n",
        "\n",
        "    def process_fee(self): \n",
        "       return self.num_of_months * PlatinumUser.PLATINUM_PACKAGE\n",
        "\n",
        "class GoldUser(User):    \n",
        "    Gold_PACKAGE = 1500    \n",
        "\n",
        "    def process_fee(self):       \n",
        "       return    self.num_of_months * GoldUser.Gold_PACKAGE\n",
        "obj = PlatinumUser('UKExpert', 15)\n",
        "obj.display_user()\n",
        "fee = obj.process_fee()\n",
        "print('Payment done is' , fee)\n",
        "\n",
        "obj = GoldUser('AmericanExpert', 12)\n",
        "obj.display_user()\n",
        "fee = obj.process_fee()\n",
        "print('Payment done is', fee)\n",
        "\n",
        "obj = PlatinumUser('IndianExpert', 25)\n",
        "obj.display_user()\n",
        "fee = obj.process_fee()\n",
        "print('Payment done is', fee)\n"
      ],
      "execution_count": null,
      "outputs": []
    },
    {
      "cell_type": "markdown",
      "metadata": {
        "id": "suezjB4zmX65"
      },
      "source": [
        "Example 7"
      ]
    },
    {
      "cell_type": "code",
      "metadata": {
        "id": "ndwtW7QRmZdF",
        "outputId": "a6095dd6-53f2-4ae4-ce1a-c1ece49b8561",
        "colab": {
          "base_uri": "https://localhost:8080/"
        }
      },
      "source": [
        "\n",
        "from abc import ABC, abstractmethod\n",
        "class Absclass(ABC):\n",
        "  def __init__(self,x):\n",
        "    self.x = x\n",
        "  def prt(self):\n",
        "    print(self.x)\n",
        "  @abstractmethod\n",
        "  def task(self):\n",
        "    pass\n",
        "\n",
        "class test_class(Absclass):\n",
        "  def task(self):\n",
        "    print('We are inside test_class task')\n",
        "\n",
        "class example_class(Absclass):\n",
        "  def task(self):\n",
        "    print('We are inside example_class task')\n",
        "    \n",
        "test_obj = test_class(100)\n",
        "test_obj.task()\n",
        "test_obj.prt()\n",
        "\n",
        "example_obj = example_class(200)\n",
        "example_obj.task()\n",
        "example_obj.prt()\n",
        "\n",
        "print('test_obj is instance of Absclass? ', isinstance(test_obj, Absclass))\n",
        "print('example_obj is instance of Absclass? ', isinstance(example_obj, Absclass))\n"
      ],
      "execution_count": 7,
      "outputs": [
        {
          "output_type": "stream",
          "name": "stdout",
          "text": [
            "We are inside test_class task\n",
            "100\n",
            "We are inside example_class task\n",
            "200\n",
            "test_obj is instance of Absclass?  True\n",
            "example_obj is instance of Absclass?  True\n"
          ]
        }
      ]
    },
    {
      "cell_type": "code",
      "metadata": {
        "id": "IeM5n6xNlxie"
      },
      "source": [
        ""
      ],
      "execution_count": null,
      "outputs": []
    }
  ]
}