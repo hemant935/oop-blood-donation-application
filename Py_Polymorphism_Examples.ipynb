{
  "nbformat": 4,
  "nbformat_minor": 5,
  "metadata": {
    "kernelspec": {
      "display_name": "Python 3",
      "language": "python",
      "name": "python3"
    },
    "language_info": {
      "codemirror_mode": {
        "name": "ipython",
        "version": 3
      },
      "file_extension": ".py",
      "mimetype": "text/x-python",
      "name": "python",
      "nbconvert_exporter": "python",
      "pygments_lexer": "ipython3",
      "version": "3.8.8"
    },
    "varInspector": {
      "cols": {
        "lenName": 16,
        "lenType": 16,
        "lenVar": 40
      },
      "kernels_config": {
        "python": {
          "delete_cmd_postfix": "",
          "delete_cmd_prefix": "del ",
          "library": "var_list.py",
          "varRefreshCmd": "print(var_dic_list())"
        },
        "r": {
          "delete_cmd_postfix": ") ",
          "delete_cmd_prefix": "rm(",
          "library": "var_list.r",
          "varRefreshCmd": "cat(var_dic_list()) "
        }
      },
      "types_to_exclude": [
        "module",
        "function",
        "builtin_function_or_method",
        "instance",
        "_Feature"
      ],
      "window_display": false
    },
    "colab": {
      "name": "Py-Polymorphism-Examples.ipynb",
      "provenance": [],
      "collapsed_sections": [],
      "include_colab_link": true
    }
  },
  "cells": [
    {
      "cell_type": "markdown",
      "metadata": {
        "id": "view-in-github",
        "colab_type": "text"
      },
      "source": [
        "<a href=\"https://colab.research.google.com/github/hemant935/oop-practice/blob/main/Py_Polymorphism_Examples.ipynb\" target=\"_parent\"><img src=\"https://colab.research.google.com/assets/colab-badge.svg\" alt=\"Open In Colab\"/></a>"
      ]
    },
    {
      "cell_type": "markdown",
      "metadata": {
        "id": "83a18cb5"
      },
      "source": [
        "### Polymorphism in addition (+)  operator"
      ],
      "id": "83a18cb5"
    },
    {
      "cell_type": "markdown",
      "metadata": {
        "id": "Gi9vdxjv1uQx"
      },
      "source": [
        "Polymorphism is the provision of a single interface to entities of different types or the use of a single symbol to represent multiple different types.The concept is borrowed from a principle in biology where an organism or species can have many different forms or stages. **Wikipedia**\n"
      ],
      "id": "Gi9vdxjv1uQx"
    },
    {
      "cell_type": "markdown",
      "metadata": {
        "id": "ogIf-VZI2BN1"
      },
      "source": [
        "Polymorphism allows an entity such as a variable, a function, or an object to have more than one form. A reference variable can refer to any object of its declared type or any subtype of its declared type. A reference variable can be declared as a class or interface type."
      ],
      "id": "ogIf-VZI2BN1"
    },
    {
      "cell_type": "markdown",
      "metadata": {
        "id": "VWhrojTV2Jnk"
      },
      "source": [
        "* Lion IS-An Animal\n",
        "* Lion IS-King of Forest\n",
        "* Lion IS-A Cornivorous\n",
        "* Lion IS-An Object"
      ],
      "id": "VWhrojTV2Jnk"
    },
    {
      "cell_type": "code",
      "metadata": {
        "id": "1a119c28",
        "outputId": "3ac6bac9-4443-4dfc-b024-d6673bbf1180"
      },
      "source": [
        "num1 = 10\n",
        "num2 = 20\n",
        "print(num1+num2)\n",
        "\n",
        "str1 = \"OOP\"\n",
        "str2 = \"Course\"\n",
        "print(str1+\" \"+str2)\n",
        "\n",
        "l1=[1,2,3]\n",
        "l2=[True,4,'Temp']\n",
        "print(l1+l2)\n"
      ],
      "id": "1a119c28",
      "execution_count": null,
      "outputs": [
        {
          "name": "stdout",
          "output_type": "stream",
          "text": [
            "30\n",
            "OOP Course\n",
            "[1, 2, 3, True, 4, 'Temp']\n"
          ]
        }
      ]
    },
    {
      "cell_type": "markdown",
      "metadata": {
        "id": "be797734"
      },
      "source": [
        "### Function Polymorphism in addition (+)  operator"
      ],
      "id": "be797734"
    },
    {
      "cell_type": "code",
      "metadata": {
        "id": "edfd4b6b",
        "outputId": "c9c7bc11-6613-4020-d1f1-2d9b12506a47"
      },
      "source": [
        "# Example1  :\n",
        "    \n",
        "print(len(\"Courses\"))\n",
        "print(len([\"Python\", \"Java\", \"C++\"]))\n",
        "print(len({\"Name\": \"XYZ\", \"Address\": \"India\"}))\n"
      ],
      "id": "edfd4b6b",
      "execution_count": null,
      "outputs": [
        {
          "name": "stdout",
          "output_type": "stream",
          "text": [
            "7\n",
            "3\n",
            "2\n"
          ]
        }
      ]
    },
    {
      "cell_type": "code",
      "metadata": {
        "id": "1fba257c",
        "outputId": "b64b0520-02d1-4425-f920-abeb6ccc59db"
      },
      "source": [
        "# Example 2:\n",
        "\n",
        "def multiply(a,b,c=1):\n",
        "    return a*b*c;\n",
        "\n",
        "print(multiply(10,20,30))\n",
        "print(multiply(40,5))\n"
      ],
      "id": "1fba257c",
      "execution_count": null,
      "outputs": [
        {
          "name": "stdout",
          "output_type": "stream",
          "text": [
            "6000\n",
            "200\n"
          ]
        }
      ]
    },
    {
      "cell_type": "markdown",
      "metadata": {
        "id": "9abb0db0"
      },
      "source": [
        "### Class Polymorphism in Python"
      ],
      "id": "9abb0db0"
    },
    {
      "cell_type": "code",
      "metadata": {
        "id": "dab74cf6",
        "outputId": "dc13d0c3-ed48-46cc-da01-c4221b66d3ef"
      },
      "source": [
        "# Example \n",
        "class Car:\n",
        "    def __init__(self, name, speed):\n",
        "        self.name = name\n",
        "        self.speed = speed\n",
        "    def info(self):\n",
        "        print(f\"Car brand is  {self.name}. It gives {self.speed} mileage\")\n",
        "    def display_colour(self):\n",
        "        print(\"BLUE\")\n",
        "class Bicycle:\n",
        "    def __init__(self, name, speed):\n",
        "        self.name = name\n",
        "        self.speed = speed\n",
        "    def info(self):\n",
        "        print(f\"It’s brand  is {self.name}. it gives  {self.speed} mileage.\")\n",
        "    def display_colour(self):\n",
        "        print(\"BLACK\")\n",
        "\n",
        "car1 = Car(\"BMW\", 9.5)\n",
        "bicycle1 = Bicycle(\"Black\", 10)\n",
        "for vehicle in (car1, bicycle1):\n",
        "    vehicle.display_colour()\n",
        "    vehicle.info()\n",
        "    vehicle.display_colour()"
      ],
      "id": "dab74cf6",
      "execution_count": null,
      "outputs": [
        {
          "name": "stdout",
          "output_type": "stream",
          "text": [
            "BLUE\n",
            "Car brand is  BMW. It gives 9.5 mileage\n",
            "BLUE\n",
            "BLACK\n",
            "It’s brand  is Black. it gives  10 mileage.\n",
            "BLACK\n"
          ]
        }
      ]
    },
    {
      "cell_type": "code",
      "metadata": {
        "id": "1160e9d9",
        "outputId": "3f9023ca-4b3d-42ad-a315-3068e9157571"
      },
      "source": [
        "# Example 2\n",
        "\n",
        "class Rectangle:\n",
        "     def __init__(self, length, breadth):\n",
        "         self.l = length\n",
        "         self.b = breadth\n",
        "     def area(self):\n",
        "         return self.l * self.b\n",
        "class Square:\n",
        "     def __init__(self, side):\n",
        "         self.s = side\n",
        "     def area(self):\n",
        "         return self.s ** 2\n",
        "R1 = Rectangle(10, 20)\n",
        "S1 = Square(25)\n",
        "print(\"Area of rectangle is: \", R1.area())\n",
        "print(\"Area of square is: \", S1.area())\n"
      ],
      "id": "1160e9d9",
      "execution_count": null,
      "outputs": [
        {
          "name": "stdout",
          "output_type": "stream",
          "text": [
            "Area of rectangle is:  200\n",
            "Area of square is:  625\n"
          ]
        }
      ]
    },
    {
      "cell_type": "code",
      "metadata": {
        "id": "25c8294e",
        "outputId": "fbb41c5f-3e04-4cf3-c192-9cac04e27a46"
      },
      "source": [
        "# Example 3\n",
        "\n",
        "class two_wheeler:\n",
        "    def fuel(self):\n",
        "        print('two wheeler needs fuel to run')\n",
        "    def capacity(self):\n",
        "        print('bikes are suitable for a maximum of 2 people')\n",
        "\n",
        "class electric_bike(two_wheeler):\n",
        "    def fuel(self):\n",
        "        print('electric bikes run on a battery')\n",
        "        \n",
        "class petrol_bike(two_wheeler):\n",
        "    def fuel(self):\n",
        "        print('petrol bike runs on petrol')  \n",
        "        \n",
        "bike=two_wheeler()\n",
        "ebike=electric_bike()\n",
        "pbike=petrol_bike()\n",
        "\n",
        "bike.fuel()\n",
        "bike.capacity()\n",
        "ebike.fuel()\n",
        "ebike.capacity()\n",
        "pbike.fuel()\n",
        "pbike.capacity()\n"
      ],
      "id": "25c8294e",
      "execution_count": null,
      "outputs": [
        {
          "name": "stdout",
          "output_type": "stream",
          "text": [
            "two wheeler needs fuel to run\n",
            "bikes are suitable for a maximum of 2 people\n",
            "electric bikes run on a battery\n",
            "bikes are suitable for a maximum of 2 people\n",
            "petrol bike runs on petrol\n",
            "bikes are suitable for a maximum of 2 people\n"
          ]
        }
      ]
    },
    {
      "cell_type": "code",
      "metadata": {
        "id": "3332a1a9",
        "outputId": "b2b8113b-c6b9-459c-dc5c-98e68c2cb791"
      },
      "source": [
        "# Example 4\n",
        "class bicycle:\n",
        "    def fuel(self):\n",
        "        print(\"bicycle doesn’t need any fuel!\")\n",
        "    def capacity(self):\n",
        "        print('bicycles are suitable for single person ride')\n",
        "\n",
        "class electric_bike:\n",
        "    def fuel(self):\n",
        "        print('electric bikes run on battery')\n",
        "    def capacity(self):\n",
        "        print('electric bikes are suitable for maximum  of 2 people')\n",
        "\n",
        "class petrol_bike:\n",
        "    def fuel(self):\n",
        "        print('petrol bike runs on petrol')\n",
        "    def capacity(self):\n",
        "        print('petrol bikes are suitable for maximum of 2 people')\n",
        "       \n",
        "ecobike=bicycle()\n",
        "ebike=electric_bike()\n",
        "pbike=petrol_bike()\n",
        "l=[ecobike,ebike,pbike]\n",
        "\n",
        "for obj in l:\n",
        "    obj.fuel()\n",
        "    obj.capacity()\n"
      ],
      "id": "3332a1a9",
      "execution_count": null,
      "outputs": [
        {
          "name": "stdout",
          "output_type": "stream",
          "text": [
            "bicycle doesn’t need any fuel!\n",
            "bicycles are suitable for single person ride\n",
            "electric bikes run on battery\n",
            "electric bikes are suitable for maximum  of 2 people\n",
            "petrol bike runs on petrol\n",
            "petrol bikes are suitable for maximum of 2 people\n"
          ]
        }
      ]
    },
    {
      "cell_type": "code",
      "metadata": {
        "colab": {
          "base_uri": "https://localhost:8080/",
          "height": 219
        },
        "id": "9GqAHEMT5CzD",
        "outputId": "9ac17da9-53d6-428f-a8bd-a31c332b21a0"
      },
      "source": [
        "class Vehicle:\n",
        "    def __init__(self, fare):\n",
        "        self.fare = fare\n",
        "\n",
        "bus= Vehicle(20)\n",
        "car= Vehicle(30)\n",
        "total_fare=bus+ car\n",
        "print(total_fare)"
      ],
      "id": "9GqAHEMT5CzD",
      "execution_count": null,
      "outputs": [
        {
          "output_type": "error",
          "ename": "TypeError",
          "evalue": "ignored",
          "traceback": [
            "\u001b[0;31m---------------------------------------------------------------------------\u001b[0m",
            "\u001b[0;31mTypeError\u001b[0m                                 Traceback (most recent call last)",
            "\u001b[0;32m<ipython-input-1-3403cfb29758>\u001b[0m in \u001b[0;36m<module>\u001b[0;34m()\u001b[0m\n\u001b[1;32m      5\u001b[0m \u001b[0mbus\u001b[0m\u001b[0;34m=\u001b[0m \u001b[0mVehicle\u001b[0m\u001b[0;34m(\u001b[0m\u001b[0;36m20\u001b[0m\u001b[0;34m)\u001b[0m\u001b[0;34m\u001b[0m\u001b[0;34m\u001b[0m\u001b[0m\n\u001b[1;32m      6\u001b[0m \u001b[0mcar\u001b[0m\u001b[0;34m=\u001b[0m \u001b[0mVehicle\u001b[0m\u001b[0;34m(\u001b[0m\u001b[0;36m30\u001b[0m\u001b[0;34m)\u001b[0m\u001b[0;34m\u001b[0m\u001b[0;34m\u001b[0m\u001b[0m\n\u001b[0;32m----> 7\u001b[0;31m \u001b[0mtotal_fare\u001b[0m\u001b[0;34m=\u001b[0m\u001b[0mbus\u001b[0m\u001b[0;34m+\u001b[0m \u001b[0mcar\u001b[0m\u001b[0;34m\u001b[0m\u001b[0;34m\u001b[0m\u001b[0m\n\u001b[0m\u001b[1;32m      8\u001b[0m \u001b[0mprint\u001b[0m\u001b[0;34m(\u001b[0m\u001b[0mtotal_fare\u001b[0m\u001b[0;34m)\u001b[0m\u001b[0;34m\u001b[0m\u001b[0;34m\u001b[0m\u001b[0m\n",
            "\u001b[0;31mTypeError\u001b[0m: unsupported operand type(s) for +: 'Vehicle' and 'Vehicle'"
          ]
        }
      ]
    },
    {
      "cell_type": "code",
      "metadata": {
        "id": "FKPk53C_5Fof"
      },
      "source": [
        ""
      ],
      "id": "FKPk53C_5Fof",
      "execution_count": null,
      "outputs": []
    },
    {
      "cell_type": "code",
      "metadata": {
        "colab": {
          "base_uri": "https://localhost:8080/"
        },
        "id": "yMxT7UVq5M13",
        "outputId": "55fcc66e-d493-4d15-8f62-9b3bbb588e97"
      },
      "source": [
        "# Example - Plus Operator Overloading with reserved function\n",
        "class Vehicle:\n",
        "    def __init__(self, fare):\n",
        "        self.fare = fare\n",
        "    def __add__(self, other):  #using the special function __add__ operator\n",
        "        return self.fare+ other.fare\n",
        "\n",
        "bus= Vehicle(20)\n",
        "car= Vehicle(30)\n",
        "total_fare=bus+ car\n",
        "print(total_fare)"
      ],
      "id": "yMxT7UVq5M13",
      "execution_count": null,
      "outputs": [
        {
          "output_type": "stream",
          "name": "stdout",
          "text": [
            "50\n"
          ]
        }
      ]
    },
    {
      "cell_type": "code",
      "metadata": {
        "id": "biz2hXMW5mjF",
        "outputId": "60709873-c09d-490a-c765-e5f5d6bd7975",
        "colab": {
          "base_uri": "https://localhost:8080/"
        }
      },
      "source": [
        "# Example - Relational Operator Overloading\n",
        "# Use relational operator  __lt__  as the special function \n",
        "class Vehicle:\n",
        "    def __init__(self, fare):\n",
        "        self.fare = fare\n",
        "    def __lt__(self, other):  \n",
        "        return self.fare< other.fare\n",
        "\n",
        "bus= Vehicle(10)\n",
        "car= Vehicle(30)\n",
        "compare=bus< car\n",
        "print(compare)"
      ],
      "id": "biz2hXMW5mjF",
      "execution_count": 1,
      "outputs": [
        {
          "output_type": "stream",
          "name": "stdout",
          "text": [
            "True\n"
          ]
        }
      ]
    },
    {
      "cell_type": "code",
      "metadata": {
        "id": "DwMfEFp15QKG"
      },
      "source": [
        "# Example Method Overloading\n",
        "class A:\n",
        "    def show(self, a=None, b=None):\n",
        "        print(a,b)\n",
        "\n",
        "obj=A()\n",
        "obj.show()\n",
        "obj.show(4)\n",
        "obj.show(4,5)"
      ],
      "id": "DwMfEFp15QKG",
      "execution_count": null,
      "outputs": []
    }
  ]
}